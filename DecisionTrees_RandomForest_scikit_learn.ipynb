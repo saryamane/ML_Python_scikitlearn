{
 "cells": [
  {
   "cell_type": "code",
   "execution_count": 25,
   "metadata": {
    "collapsed": false
   },
   "outputs": [
    {
     "name": "stdout",
     "output_type": "stream",
     "text": [
      "Hello World\n"
     ]
    }
   ],
   "source": [
    "# Run some python commands.\n",
    "1 + 1\n",
    "print(\"Hello World\")\n",
    "from bs4 import BeautifulSoup;"
   ]
  },
  {
   "cell_type": "code",
   "execution_count": 4,
   "metadata": {
    "collapsed": true
   },
   "outputs": [],
   "source": [
    "# Let's verify the sklearn installation to be succesfull."
   ]
  },
  {
   "cell_type": "code",
   "execution_count": 2,
   "metadata": {
    "collapsed": true
   },
   "outputs": [],
   "source": [
    "import sklearn;"
   ]
  },
  {
   "cell_type": "code",
   "execution_count": 3,
   "metadata": {
    "collapsed": false
   },
   "outputs": [
    {
     "data": {
      "text/plain": [
       "'0.16.1'"
      ]
     },
     "execution_count": 3,
     "metadata": {},
     "output_type": "execute_result"
    }
   ],
   "source": [
    "sklearn.__version__"
   ]
  },
  {
   "cell_type": "code",
   "execution_count": 5,
   "metadata": {
    "collapsed": true
   },
   "outputs": [],
   "source": [
    "# Decision Trees example."
   ]
  },
  {
   "cell_type": "code",
   "execution_count": 6,
   "metadata": {
    "collapsed": true
   },
   "outputs": [],
   "source": [
    "import pandas as pd"
   ]
  },
  {
   "cell_type": "code",
   "execution_count": 7,
   "metadata": {
    "collapsed": true
   },
   "outputs": [],
   "source": [
    "from sklearn.tree import DecisionTreeClassifier\n",
    "from sklearn.cross_validation import train_test_split\n",
    "from sklearn.metrics import classification_report\n",
    "from sklearn.pipeline import Pipeline\n",
    "from sklearn.grid_search import GridSearchCV"
   ]
  },
  {
   "cell_type": "code",
   "execution_count": 8,
   "metadata": {
    "collapsed": false
   },
   "outputs": [
    {
     "data": {
      "text/plain": [
       "u'/Users/saryamane/iPython Jupyter'"
      ]
     },
     "execution_count": 8,
     "metadata": {},
     "output_type": "execute_result"
    }
   ],
   "source": [
    "pwd"
   ]
  },
  {
   "cell_type": "code",
   "execution_count": 22,
   "metadata": {
    "collapsed": false
   },
   "outputs": [
    {
     "name": "stdout",
     "output_type": "stream",
     "text": [
      "Fitting 3 folds for each of 27 candidates, totalling 81 fits\n"
     ]
    },
    {
     "name": "stderr",
     "output_type": "stream",
     "text": [
      "/Users/saryamane/anaconda/lib/python2.7/site-packages/IPython/kernel/__main__.py:11: SettingWithCopyWarning: \n",
      "A value is trying to be set on a copy of a slice from a DataFrame\n",
      "\n",
      "See the the caveats in the documentation: http://pandas.pydata.org/pandas-docs/stable/indexing.html#indexing-view-versus-copy\n",
      "[Parallel(n_jobs=-1)]: Done   1 jobs       | elapsed:    1.3s\n",
      "[Parallel(n_jobs=-1)]: Done  50 jobs       | elapsed:   15.0s\n",
      "[Parallel(n_jobs=-1)]: Done  75 out of  81 | elapsed:   22.9s remaining:    1.8s\n",
      "[Parallel(n_jobs=-1)]: Done  81 out of  81 | elapsed:   24.0s finished\n"
     ]
    },
    {
     "name": "stdout",
     "output_type": "stream",
     "text": [
      "Best score: 0.900\n",
      "Best parameter set:\n",
      "\tclf__max_depth: 150\n",
      "\tclf__min_samples_leaf: 1\n",
      "\tclf__min_samples_split: 1\n",
      "             precision    recall  f1-score   support\n",
      "\n",
      "          0       0.97      0.98      0.97       698\n",
      "          1       0.86      0.84      0.85       122\n",
      "\n",
      "avg / total       0.95      0.95      0.95       820\n",
      "\n"
     ]
    }
   ],
   "source": [
    "if __name__ == '__main__':\n",
    "    df = pd.read_csv('ad-dataset/ad.data', header=None)\n",
    "    explanatory_variable_columns = set(df.columns.values)\n",
    "    response_variable_column = df[len(df.columns.values)-1]\n",
    "    # Last column describes the targets\n",
    "    explanatory_variable_columns.remove(len(df.columns.values)-1)\n",
    "    \n",
    "    y = [1 if e == 'ad.' else 0 for e in response_variable_column]\n",
    "    X = df[list(explanatory_variable_columns)]\n",
    "    \n",
    "    X.replace(to_replace=' *\\?', value=-1, regex=True, inplace=True)\n",
    "    X_train, X_test, y_train, y_test = train_test_split(X,y)\n",
    "    \n",
    "    pipeline = Pipeline([\n",
    "            ('clf',DecisionTreeClassifier(criterion='entropy'))\n",
    "        ])\n",
    "    \n",
    "    # Specify the hyperparameters for the grid search.\n",
    "    \n",
    "    parameters = {\n",
    "        'clf__max_depth': (150,155,160),\n",
    "        'clf__min_samples_split': (1,2,3),\n",
    "        'clf__min_samples_leaf': (1,2,3)\n",
    "    }\n",
    "    \n",
    "    grid_search = GridSearchCV(pipeline, parameters, n_jobs=-1, verbose=1, scoring='f1')\n",
    "    grid_search.fit(X_train, y_train)\n",
    "    print 'Best score: %0.3f' % grid_search.best_score_\n",
    "    print 'Best parameter set:'\n",
    "    best_parameters = grid_search.best_estimator_.get_params()\n",
    "    for param_name in sorted(parameters.keys()):\n",
    "        print '\\t%s: %r' % (param_name, best_parameters[param_name])\n",
    "        \n",
    "    predictions = grid_search.predict(X_test)\n",
    "    print classification_report(y_test, predictions)"
   ]
  },
  {
   "cell_type": "code",
   "execution_count": 24,
   "metadata": {
    "collapsed": false
   },
   "outputs": [
    {
     "name": "stdout",
     "output_type": "stream",
     "text": [
      "Fitting 3 folds for each of 108 candidates, totalling 324 fits\n"
     ]
    },
    {
     "name": "stderr",
     "output_type": "stream",
     "text": [
      "/Users/saryamane/anaconda/lib/python2.7/site-packages/IPython/kernel/__main__.py:13: SettingWithCopyWarning: \n",
      "A value is trying to be set on a copy of a slice from a DataFrame\n",
      "\n",
      "See the the caveats in the documentation: http://pandas.pydata.org/pandas-docs/stable/indexing.html#indexing-view-versus-copy\n",
      "[Parallel(n_jobs=-1)]: Done   1 jobs       | elapsed:    0.7s\n",
      "[Parallel(n_jobs=-1)]: Done  50 jobs       | elapsed:   11.9s\n",
      "[Parallel(n_jobs=-1)]: Done 200 jobs       | elapsed:   47.7s\n",
      "[Parallel(n_jobs=-1)]: Done 318 out of 324 | elapsed:  1.3min remaining:    1.5s\n",
      "[Parallel(n_jobs=-1)]: Done 324 out of 324 | elapsed:  1.3min finished\n"
     ]
    },
    {
     "name": "stdout",
     "output_type": "stream",
     "text": [
      "Best score: 0.925\n",
      "Best parameter set:\n",
      "\tclf__max_depth: 150\n",
      "\tclf__min_samples_leaf: 1\n",
      "\tclf__min_samples_split: 3\n",
      "\tclf__n_estimators: 50\n",
      "             precision    recall  f1-score   support\n",
      "\n",
      "          0       0.98      0.99      0.99       712\n",
      "          1       0.96      0.87      0.91       108\n",
      "\n",
      "avg / total       0.98      0.98      0.98       820\n",
      "\n"
     ]
    }
   ],
   "source": [
    "from sklearn.ensemble import RandomForestClassifier \n",
    "\n",
    "if __name__ == '__main__':\n",
    "    df = pd.read_csv('ad-dataset/ad.data', header=None)\n",
    "    explanatory_variable_columns = set(df.columns.values)\n",
    "    response_variable_column = df[len(df.columns.values)-1]\n",
    "    # Last column describes the targets\n",
    "    explanatory_variable_columns.remove(len(df.columns.values)-1)\n",
    "    \n",
    "    y = [1 if e == 'ad.' else 0 for e in response_variable_column]\n",
    "    X = df[list(explanatory_variable_columns)]\n",
    "    \n",
    "    X.replace(to_replace=' *\\?', value=-1, regex=True, inplace=True)\n",
    "    X_train, X_test, y_train, y_test = train_test_split(X,y)\n",
    "    \n",
    "    pipeline = Pipeline([\n",
    "            ('clf',RandomForestClassifier(criterion='entropy'))\n",
    "        ])\n",
    "    \n",
    "    # Specify the hyperparameters for the grid search.\n",
    "    \n",
    "    parameters = {\n",
    "        'clf__n_estimators': (5,10,20,50),\n",
    "        'clf__max_depth': (150,155,160),\n",
    "        'clf__min_samples_split': (1,2,3),\n",
    "        'clf__min_samples_leaf': (1,2,3)\n",
    "    }\n",
    "    \n",
    "    grid_search = GridSearchCV(pipeline, parameters, n_jobs=-1, verbose=1, scoring='f1')\n",
    "    grid_search.fit(X_train, y_train)\n",
    "    print 'Best score: %0.3f' % grid_search.best_score_\n",
    "    print 'Best parameter set:'\n",
    "    best_parameters = grid_search.best_estimator_.get_params()\n",
    "    for param_name in sorted(parameters.keys()):\n",
    "        print '\\t%s: %r' % (param_name, best_parameters[param_name])\n",
    "        \n",
    "    predictions = grid_search.predict(X_test)\n",
    "    print classification_report(y_test, predictions)"
   ]
  },
  {
   "cell_type": "code",
   "execution_count": null,
   "metadata": {
    "collapsed": true
   },
   "outputs": [],
   "source": []
  }
 ],
 "metadata": {
  "kernelspec": {
   "display_name": "Python 2",
   "language": "python",
   "name": "python2"
  },
  "language_info": {
   "codemirror_mode": {
    "name": "ipython",
    "version": 2
   },
   "file_extension": ".py",
   "mimetype": "text/x-python",
   "name": "python",
   "nbconvert_exporter": "python",
   "pygments_lexer": "ipython2",
   "version": "2.7.10"
  }
 },
 "nbformat": 4,
 "nbformat_minor": 0
}
